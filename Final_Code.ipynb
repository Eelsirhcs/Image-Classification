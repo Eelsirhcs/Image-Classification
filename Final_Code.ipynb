{
 "cells": [
  {
   "cell_type": "code",
   "execution_count": null,
   "metadata": {},
   "outputs": [],
   "source": [
    "import keras\n",
    "from keras.datasets import cifar10\n",
    "from keras.models import Sequential, model_from_json\n",
    "from keras.layers import Dense, Dropout, Flatten, Conv2D, MaxPooling2D, AveragePooling2D\n",
    "from keras.preprocessing import image\n",
    "from pathlib import Path\n",
    "\n",
    "import matplotlib.pyplot as plt\n",
    "import numpy as np"
   ]
  },
  {
   "cell_type": "code",
   "execution_count": null,
   "metadata": {},
   "outputs": [],
   "source": [
    "# List of names for each CIFAR10 class\n",
    "cifar10_class_names = {\n",
    "    0: \"Airplane\",\n",
    "    1: \"Automobile\",\n",
    "    2: \"Bird\",\n",
    "    3: \"Cat\",\n",
    "    4: \"Deer\",\n",
    "    5: \"Dog\",\n",
    "    6: \"Frog\",\n",
    "    7: \"Horse\",\n",
    "    8: \"Ship\",\n",
    "    9: \"Truck\"\n",
    "}"
   ]
  },
  {
   "cell_type": "code",
   "execution_count": null,
   "metadata": {},
   "outputs": [],
   "source": [
    "# Data Exploratory\n",
    "n = 6\n",
    "with plt.style.context('default'):\n",
    "    plt.figure(num = 1, figsize = [10, 10])\n",
    "    for i in range(2 * n):\n",
    "        # Grab an image from the data set\n",
    "        sample_image = x_train[i]\n",
    "        # Grab the image's expected class id\n",
    "        image_class_number = y_train[i][0]\n",
    "        # Look up the string name of that label from the list of labels we have at the top\n",
    "        image_class_name = cifar10_labels[image_class_number]\n",
    "\n",
    "        # Draw the image as a plot\n",
    "        plt.subplot(n, n, i+1)\n",
    "        plt.imshow(sample_image)\n",
    "        # Label the image\n",
    "        plt.title(image_class_name)"
   ]
  },
  {
   "cell_type": "code",
   "execution_count": null,
   "metadata": {},
   "outputs": [],
   "source": [
    "#We compile and we define how we'll be training it and how we'll be measuring it accuracy.\n",
    "#############################################\n",
    "# Load data set\n",
    "(x_train, y_train), (x_test, y_test) = cifar10.load_data()\n",
    "\n",
    "# Pre-Processing\n",
    "# Before we use the data to train a neural network, we need to normalize it.\n",
    "# Neural networks work best when the input data are floating values between 0 and 1.\n",
    "x_train = x_train.astype('float32')\n",
    "x_test = x_test.astype('float32')\n",
    "x_train /= 255\n",
    "x_test /= 255\n",
    "\n",
    "# Since we are creating a neural network with 10 oututs, we create a separate expected balue for each of the outputs\n",
    "## Convert class vectors to binary class matrices\n",
    "# Our labels are single values from 0 to 9.\n",
    "# Instead, we want each label to be an array with on element set to 1 and and the rest set to 0.\n",
    "y_train = keras.utils.to_categorical(y_train, 10)\n",
    "y_test = keras.utils.to_categorical(y_test, 10)\n",
    "\n",
    "# Create a model and add layers\n",
    "model = Sequential()\n",
    "\n",
    "model.add(Conv2D(32, (3, 3), padding = 'same', input_shape = (32, 32, 3), activation = \"relu\"))\n",
    "model.add(BatchNormalization())\n",
    "model.add(Conv2D(32, (3, 3), padding = 'same', activation = \"relu\"))\n",
    "model.add(BatchNormalization())\n",
    "model.add(MaxPooling2D(pool_size = (2, 2)))\n",
    "model.add(Dropout(0.25))\n",
    "\n",
    "model.add(Conv2D(64, (3, 3), padding = 'same', activation = \"relu\"))\n",
    "model.add(BatchNormalization())\n",
    "model.add(Conv2D(64, (3, 3), padding = 'same', activation = \"relu\"))\n",
    "model.add(BatchNormalization())\n",
    "model.add(MaxPooling2D(pool_size = (2, 2)))\n",
    "model.add(Dropout(0.25))\n",
    "\n",
    "model.add(Conv2D(128, (3, 3), padding = 'same', activation = \"relu\"))\n",
    "model.add(BatchNormalization())\n",
    "model.add(Conv2D(128, (3, 3), padding = 'same', activation = \"relu\"))\n",
    "model.add(BatchNormalization())\n",
    "model.add(MaxPooling2D(pool_size = (2, 2)))\n",
    "model.add(Dropout(0.25))\n",
    "\n",
    "model.add(Flatten())\n",
    "model.add(Dense(512, activation = \"relu\"))\n",
    "model.add(Dropout(0.5))\n",
    "model.add(Dense(10, activation = \"softmax\"))\n",
    "\n",
    "# Compile the model (several parameters)\n",
    "#loss function tells keras how to check how right or how wrong the guesses from out neural network are.\n",
    "#Since we have 10 different possible categories for our objects with out data set, we'll use categorical crossentropy.\n",
    "#Binary if we're only checking if an image belongs to one category.\n",
    "#Choosing an optimization algorithm, adam = Adaptive Moment Estimation, often used for image data.\n",
    "#The metrics we want the model to report during the training process, we type it into an array because we can choose to report more than one.\n",
    "model.compile(loss = 'categorical_crossentropy', optimizer = 'adam', metrics = ['accuracy'])"
   ]
  },
  {
   "cell_type": "code",
   "execution_count": null,
   "metadata": {},
   "outputs": [],
   "source": [
    "# Print a summary of the model\n",
    "model.summary()"
   ]
  },
  {
   "cell_type": "code",
   "execution_count": null,
   "metadata": {},
   "outputs": [],
   "source": [
    "# Train the model\n",
    "model.fit(x_train, y_train, batch_size = 64, epochs = 60, validation_data = (x_test, y_test), shuffle = True)\n",
    "\n",
    "# Save neural network structure\n",
    "model_structure = model.to_json()\n",
    "f = Path(\"60Epochs.json\")\n",
    "f.write_text(model_structure)\n",
    "\n",
    "# Save neural network's trained weights\n",
    "model.save_weights(\"60Epochs.h5\")"
   ]
  },
  {
   "cell_type": "code",
   "execution_count": null,
   "metadata": {},
   "outputs": [],
   "source": [
    "#Classification Report\n",
    "y_true = np.dot(y_test, list(range(10)))\n",
    "y_pred = model.predict_classes(x_test)\n",
    "report = metrics.classification_report(y_true, y_pred)\n",
    "print(report)\n",
    "print(metrics.confusion_matrix(y_true, y_pred))\n",
    "#print(model.summary())"
   ]
  },
  {
   "cell_type": "code",
   "execution_count": null,
   "metadata": {},
   "outputs": [],
   "source": [
    "#Loss and Accuracy\n",
    "# plot loss during training\n",
    "plt.style.use('ggplot')\n",
    "base = 3.5\n",
    "fig = plt.figure(num = 1, figsize = [2 * base * (1 + np.sqrt(5))/2, base])\n",
    "plt.style.use('ggplot')\n",
    "c1 = '0.5'\n",
    "c2 = 'C0'\n",
    "plt.subplot(121)\n",
    "plt.title('Loss')\n",
    "plt.plot(model.history.history['loss'], label='train', color = c1, linestyle = '--')\n",
    "plt.plot(model.history.history['val_loss'], label='test', color = c2)\n",
    "plt.legend(shadow = True, facecolor = '1')\n",
    "# plot accuracy during training\n",
    "plt.subplot(122)\n",
    "plt.title('Accuracy')\n",
    "plt.plot(model.history.history['accuracy'], label='train', color = c1, linestyle = '--')\n",
    "plt.plot(model.history.history['val_accuracy'], label='test', color = c2)\n",
    "plt.legend(shadow = True, facecolor = '1')\n",
    "plt.show()"
   ]
  }
 ],
 "metadata": {
  "kernelspec": {
   "display_name": "Python 3",
   "language": "python",
   "name": "python3"
  },
  "language_info": {
   "codemirror_mode": {
    "name": "ipython",
    "version": 3
   },
   "file_extension": ".py",
   "mimetype": "text/x-python",
   "name": "python",
   "nbconvert_exporter": "python",
   "pygments_lexer": "ipython3",
   "version": "3.7.3"
  }
 },
 "nbformat": 4,
 "nbformat_minor": 2
}
